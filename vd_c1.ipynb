{
 "cells": [
  {
   "cell_type": "code",
   "execution_count": 22,
   "id": "cf266b37",
   "metadata": {},
   "outputs": [
    {
     "name": "stdout",
     "output_type": "stream",
     "text": [
      "Five is greater than two!\n"
     ]
    }
   ],
   "source": [
    "#Vidu ve cau lenh, khoi lenh _ 1\n",
    "if(5>2):\n",
    "    print('Five is greater than two!');\n"
   ]
  },
  {
   "cell_type": "code",
   "execution_count": 23,
   "id": "b444e109",
   "metadata": {},
   "outputs": [
    {
     "name": "stdout",
     "output_type": "stream",
     "text": [
      "6\n",
      "Hello Python!\n"
     ]
    }
   ],
   "source": [
    "#Vidu ve cau lenh, khoi lenh _ 2\n",
    "total = 1+\\\n",
    "2+\\\n",
    "3\n",
    "print(total);print('Hello Python!');"
   ]
  },
  {
   "cell_type": "code",
   "execution_count": 24,
   "id": "acdae07c",
   "metadata": {},
   "outputs": [
    {
     "name": "stdout",
     "output_type": "stream",
     "text": [
      "True\n"
     ]
    }
   ],
   "source": [
    "#Vidu ve cau lenh, khoi lenh _ 3\n",
    "if True:\n",
    "    print('True');\n",
    "else: \n",
    "    print('False');"
   ]
  },
  {
   "cell_type": "code",
   "execution_count": 25,
   "id": "408c56e1",
   "metadata": {},
   "outputs": [
    {
     "name": "stdout",
     "output_type": "stream",
     "text": [
      "Hello world!\n"
     ]
    }
   ],
   "source": [
    "#Vidu ve cau lenh, khoi lenh _ 4\n",
    "print('Hello world!');"
   ]
  },
  {
   "cell_type": "code",
   "execution_count": 26,
   "id": "02d10b2d",
   "metadata": {},
   "outputs": [],
   "source": [
    "#Vidu ve module và gói 1\n",
    "import math\n",
    "import os"
   ]
  },
  {
   "cell_type": "code",
   "execution_count": 27,
   "id": "cd6067cd",
   "metadata": {},
   "outputs": [],
   "source": [
    "#Vidu ve module và gói 2\n",
    "def add(a,b):\n",
    "    result=a+b\n",
    "    return result"
   ]
  }
 ],
 "metadata": {
  "kernelspec": {
   "display_name": "Python 3",
   "language": "python",
   "name": "python3"
  },
  "language_info": {
   "codemirror_mode": {
    "name": "ipython",
    "version": 3
   },
   "file_extension": ".py",
   "mimetype": "text/x-python",
   "name": "python",
   "nbconvert_exporter": "python",
   "pygments_lexer": "ipython3",
   "version": "3.11.9"
  }
 },
 "nbformat": 4,
 "nbformat_minor": 5
}
