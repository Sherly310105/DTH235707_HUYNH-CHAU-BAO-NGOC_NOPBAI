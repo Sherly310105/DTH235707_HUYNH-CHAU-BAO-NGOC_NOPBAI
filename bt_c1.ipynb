{
 "cells": [
  {
   "cell_type": "code",
   "execution_count": 1,
   "id": "98a7f7ca",
   "metadata": {},
   "outputs": [
    {
     "name": "stdout",
     "output_type": "stream",
     "text": [
      "Chao cac ban\n"
     ]
    }
   ],
   "source": [
    "#Viet chuong trinh python in cau \"Chao cac ban\"\n",
    "print(\"Chao cac ban\")"
   ]
  },
  {
   "cell_type": "code",
   "execution_count": 2,
   "id": "957493e2",
   "metadata": {},
   "outputs": [
    {
     "name": "stdout",
     "output_type": "stream",
     "text": [
      "Nguyen Hoang Khang\n"
     ]
    }
   ],
   "source": [
    "#Viet chuong trinh python in Ho va Ten ra man hinh\n",
    "print(\"Nguyen Hoang Khang\")"
   ]
  }
 ],
 "metadata": {
  "kernelspec": {
   "display_name": "Python 3",
   "language": "python",
   "name": "python3"
  },
  "language_info": {
   "codemirror_mode": {
    "name": "ipython",
    "version": 3
   },
   "file_extension": ".py",
   "mimetype": "text/x-python",
   "name": "python",
   "nbconvert_exporter": "python",
   "pygments_lexer": "ipython3",
   "version": "3.11.9"
  }
 },
 "nbformat": 4,
 "nbformat_minor": 5
}
